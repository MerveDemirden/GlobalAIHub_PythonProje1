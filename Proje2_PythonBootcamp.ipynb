{
  "nbformat": 4,
  "nbformat_minor": 0,
  "metadata": {
    "colab": {
      "name": "Proje2_PythonBootcamp.ipynb",
      "provenance": [],
      "collapsed_sections": [],
      "include_colab_link": true
    },
    "kernelspec": {
      "name": "python3",
      "display_name": "Python 3"
    },
    "language_info": {
      "name": "python"
    }
  },
  "cells": [
    {
      "cell_type": "markdown",
      "metadata": {
        "id": "view-in-github",
        "colab_type": "text"
      },
      "source": [
        "<a href=\"https://colab.research.google.com/github/MerveDemirden/GlobalAIHub_PythonProjeleri/blob/main/Proje2_PythonBootcamp.ipynb\" target=\"_parent\"><img src=\"https://colab.research.google.com/assets/colab-badge.svg\" alt=\"Open In Colab\"/></a>"
      ]
    },
    {
      "cell_type": "markdown",
      "source": [
        "Kütüphanelerin import edilmesi"
      ],
      "metadata": {
        "id": "Sg_WEz3rx1mL"
      }
    },
    {
      "cell_type": "code",
      "execution_count": null,
      "metadata": {
        "id": "weQCSvxihZqH"
      },
      "outputs": [],
      "source": [
        "import numpy as np\n",
        "import pandas as pd\n",
        "import matplotlib as mpl\n",
        "import matplotlib.pyplot as plt\n",
        "import seaborn as sns\n",
        "import plotly.express as px"
      ]
    },
    {
      "cell_type": "markdown",
      "source": [
        "Dataset'in yüklenmesi"
      ],
      "metadata": {
        "id": "pZ8y7oCXx64K"
      }
    },
    {
      "cell_type": "code",
      "source": [
        "veri=pd.read_csv(\"NetflixOriginals.csv\",encoding = \"ISO-8859-1\")"
      ],
      "metadata": {
        "id": "W1s5oS-8hfhw"
      },
      "execution_count": null,
      "outputs": []
    },
    {
      "cell_type": "markdown",
      "source": [
        "1. Veri setine göre uzun soluklu filmler hangi dilde oluşturulmuştur? Görselleştirme yapınız."
      ],
      "metadata": {
        "id": "k3DIpm7yhqii"
      }
    },
    {
      "cell_type": "code",
      "source": [
        "uzun_soluklu_filmler = veri.sort_values(\"Runtime\",ascending=False)[:20] # En uzun süreye göre 20 film sıralandı.\n",
        "print(uzun_soluklu_filmler[[\"Runtime\",\"Language\"]].reset_index())       #reset.index() methoduyla indexler düzenlendi.\n",
        "veri['Runtime'].mean()\n",
        "\n",
        "#Görselde uzun soluklu filmlerin süreleri karşılaştırılırken 93 dakikadan büyük ve eşit olan filmler seçildi.\n",
        "sns.barplot(x=uzun_soluklu_filmler[\"Language\"],y=uzun_soluklu_filmler.loc[(uzun_soluklu_filmler[\"Runtime\"]>= 93)][\"Runtime\"])\n",
        "plt.show()"
      ],
      "metadata": {
        "colab": {
          "base_uri": "https://localhost:8080/",
          "height": 660
        },
        "id": "C0b7qJHNhlUV",
        "outputId": "f03726d5-ea8f-4d80-cb6e-d1f99db63e02"
      },
      "execution_count": null,
      "outputs": [
        {
          "output_type": "stream",
          "name": "stdout",
          "text": [
            "    index  Runtime  Language\n",
            "0     561      209   English\n",
            "1     328      155   English\n",
            "2     581      153   English\n",
            "3     247      151   English\n",
            "4     284      151  Japanese\n",
            "5     509      149     Hindi\n",
            "6       7      149   English\n",
            "7     543      149     Hindi\n",
            "8     194      148   English\n",
            "9       5      147     Hindi\n",
            "10    545      144   English\n",
            "11     16      144     Hindi\n",
            "12    389      144   English\n",
            "13    118      142  Japanese\n",
            "14    365      142     Hindi\n",
            "15    495      140   English\n",
            "16    254      139   Spanish\n",
            "17      9      139     Hindi\n",
            "18    474      138   English\n",
            "19    536      137   English\n"
          ]
        },
        {
          "output_type": "display_data",
          "data": {
            "text/plain": [
              "<Figure size 432x288 with 1 Axes>"
            ],
            "image/png": "[encoded data removed]"
          },
          "metadata": {
            "needs_background": "light"
          }
        }
      ]
    },
    {
      "cell_type": "markdown",
      "source": [
        "Görselde x ekseni Uzun Souklu Filmler kategorisine giren filmlerin dillerini verirken y ekseni ise bu filmlerin süreleri hakkında bilgi verir. \n",
        "\n",
        "Grafikte görüldüğü üzere en uzun süreye sahip olan filmlerin dili İngilizce iken en kısa süreye sahip filmlerin dili İspanyolcadır"
      ],
      "metadata": {
        "id": "hOzPuvjT1duq"
      }
    },
    {
      "cell_type": "markdown",
      "source": [
        "2. 2019 Ocak ile 2020 Haziran tarihleri arasında 'Documentary' türünde çekilmiş filmlerin IMDB değerlerini bulup görselleştiriniz."
      ],
      "metadata": {
        "id": "ZDWkRY8yhw7Y"
      }
    },
    {
      "cell_type": "code",
      "source": [
        "veri[\"Date\"] = pd.to_datetime(veri.Premiere)\n",
        "\n",
        "veri.loc[(veri[\"Genre\"] == \"Documentary\") & (veri[\"Date\"] > \"2019-01-31\") & (veri[\"Date\"] < \"2020-06-01\")].head(10) # Aralıklıktaki 10 belgesel filmi aldık. \n",
        "\n",
        "belgesel = veri.loc[(veri[\"Genre\"] == \"Documentary\") & (veri[\"Date\"] > \"2019-01-31\") & (veri[\"Date\"] < \"2020-06-01\")].head(10)\n",
        "belgesel[\"Title\"].value_counts()\n",
        "\n",
        "print(veri.loc[(veri[\"Genre\"] == \"Documentary\") & (veri[\"Date\"] > \"2019-01-31\") & (veri[\"Date\"] < \"2020-06-01\")].head(10))\n",
        "\n",
        "# Barplot Çizimi\n",
        "grafik = px.bar(data_frame=belgesel, x=belgesel.Title, y=belgesel[\"IMDB Score\"], labels={\"y\":\"IMDB Score\", \"index\":\"Titles\"})\n",
        "grafik.update_layout(xaxis={\"categoryorder\":\"total descending\"})\n",
        "\n",
        "grafik.show()"
      ],
      "metadata": {
        "colab": {
          "base_uri": "https://localhost:8080/",
          "height": 959
        },
        "id": "no-y5I0dh32J",
        "outputId": "41415aaf-da50-4935-a5e3-739e85d5a918"
      },
      "execution_count": null,
      "outputs": [
        {
          "output_type": "stream",
          "name": "stdout",
          "text": [
            "                                        Title        Genre  \\\n",
            "0                             Enter the Anime  Documentary   \n",
            "15                             After the Raid  Documentary   \n",
            "20          Hello Privilege. It's Me, Chelsea  Documentary   \n",
            "30                                After Maria  Documentary   \n",
            "111                      Ghosts of Sugar Land  Documentary   \n",
            "263                    A Tale of Two Kitchens  Documentary   \n",
            "286              The Legend of Cocaine Island  Documentary   \n",
            "290          Travis Scott: Look Mom I Can Fly  Documentary   \n",
            "295                                   Birders  Documentary   \n",
            "303  Murder to Mercy: The Cyntoia Brown Story  Documentary   \n",
            "\n",
            "               Premiere  Runtime  IMDB Score          Language       Date  \n",
            "0        August 5, 2019       58         2.5  English/Japanese 2019-08-05  \n",
            "15    December 19, 2019       25         4.3           Spanish 2019-12-19  \n",
            "20   September 13, 2019       64         4.4           English 2019-09-13  \n",
            "30         May 24, 2019       37         4.6   English/Spanish 2019-05-24  \n",
            "111    October 16. 2019       21         5.5           English 2019-10-16  \n",
            "263        May 22, 2019       30         6.3   English/Spanish 2019-05-22  \n",
            "286      March 29, 2019       87         6.3           English 2019-03-29  \n",
            "290     August 28, 2019       85         6.3           English 2019-08-28  \n",
            "295  September 25, 2019       37         6.4   English/Spanish 2019-09-25  \n",
            "303      April 29, 2020       97         6.4           English 2020-04-29  \n"
          ]
        },
        {
          "output_type": "display_data",
          "data": {
            "text/html": [
              "<html>\n",
              "<head><meta charset=\"utf-8\" /></head>\n",
              "<body>\n",
              "    <div>            <script src=\"https://cdnjs.cloudflare.com/ajax/libs/mathjax/2.7.5/MathJax.js?config=TeX-AMS-MML_SVG\"></script><script type=\"text/javascript\">if (window.MathJax) {MathJax.Hub.Config({SVG: {font: \"STIX-Web\"}});}</script>                <script type=\"text/javascript\">window.PlotlyConfig = {MathJaxConfig: 'local'};</script>\n",
              "        <script src=\"https://cdn.plot.ly/plotly-2.8.3.min.js\"></script>                <div id=\"9a1b7419-37d6-46b2-87c5-f51b0f47f29a\" class=\"plotly-graph-div\" style=\"height:525px; width:100%;\"></div>            <script type=\"text/javascript\">                                    window.PLOTLYENV=window.PLOTLYENV || {};                                    if (document.getElementById(\"9a1b7419-37d6-46b2-87c5-f51b0f47f29a\")) {                    Plotly.newPlot(                        \"9a1b7419-37d6-46b2-87c5-f51b0f47f29a\",                        [{\"alignmentgroup\":\"True\",\"hovertemplate\":\"Title=%{x}<br>IMDB Score=%{y}<extra></extra>\",\"legendgroup\":\"\",\"marker\":{\"color\":\"#636efa\",\"pattern\":{\"shape\":\"\"}},\"name\":\"\",\"offsetgroup\":\"\",\"orientation\":\"v\",\"showlegend\":false,\"textposition\":\"auto\",\"x\":[\"Enter the Anime\",\"After the Raid\",\"Hello Privilege. It's Me, Chelsea\",\"After Maria\",\"Ghosts of Sugar Land\",\"A Tale of Two Kitchens\",\"The Legend of Cocaine Island\",\"Travis Scott: Look Mom I Can Fly\",\"Birders\",\"Murder to Mercy: The Cyntoia Brown Story\"],\"xaxis\":\"x\",\"y\":[2.5,4.3,4.4,4.6,5.5,6.3,6.3,6.3,6.4,6.4],\"yaxis\":\"y\",\"type\":\"bar\"}],                        {\"template\":{\"data\":{\"bar\":[{\"error_x\":{\"color\":\"#2a3f5f\"},\"error_y\":{\"color\":\"#2a3f5f\"},\"marker\":{\"line\":{\"color\":\"#E5ECF6\",\"width\":0.5},\"pattern\":{\"fillmode\":\"overlay\",\"size\":10,\"solidity\":0.2}},\"type\":\"bar\"}],\"barpolar\":[{\"marker\":{\"line\":{\"color\":\"#E5ECF6\",\"width\":0.5},\"pattern\":{\"fillmode\":\"overlay\",\"size\":10,\"solidity\":0.2}},\"type\":\"barpolar\"}],\"carpet\":[{\"aaxis\":{\"endlinecolor\":\"#2a3f5f\",\"gridcolor\":\"white\",\"linecolor\":\"white\",\"minorgridcolor\":\"white\",\"startlinecolor\":\"#2a3f5f\"},\"baxis\":{\"endlinecolor\":\"#2a3f5f\",\"gridcolor\":\"white\",\"linecolor\":\"white\",\"minorgridcolor\":\"white\",\"startlinecolor\":\"#2a3f5f\"},\"type\":\"carpet\"}],\"choropleth\":[{\"colorbar\":{\"outlinewidth\":0,\"ticks\":\"\"},\"type\":\"choropleth\"}],\"contour\":[{\"colorbar\":{\"outlinewidth\":0,\"ticks\":\"\"},\"colorscale\":[[0.0,\"#0d0887\"],[0.1111111111111111,\"#46039f\"],[0.2222222222222222,\"#7201a8\"],[0.3333333333333333,\"#9c179e\"],[0.4444444444444444,\"#bd3786\"],[0.5555555555555556,\"#d8576b\"],[0.6666666666666666,\"#ed7953\"],[0.7777777777777778,\"#fb9f3a\"],[0.8888888888888888,\"#fdca26\"],[1.0,\"#f0f921\"]],\"type\":\"contour\"}],\"contourcarpet\":[{\"colorbar\":{\"outlinewidth\":0,\"ticks\":\"\"},\"type\":\"contourcarpet\"}],\"heatmap\":[{\"colorbar\":{\"outlinewidth\":0,\"ticks\":\"\"},\"colorscale\":[[0.0,\"#0d0887\"],[0.1111111111111111,\"#46039f\"],[0.2222222222222222,\"#7201a8\"],[0.3333333333333333,\"#9c179e\"],[0.4444444444444444,\"#bd3786\"],[0.5555555555555556,\"#d8576b\"],[0.6666666666666666,\"#ed7953\"],[0.7777777777777778,\"#fb9f3a\"],[0.8888888888888888,\"#fdca26\"],[1.0,\"#f0f921\"]],\"type\":\"heatmap\"}],\"heatmapgl\":[{\"colorbar\":{\"outlinewidth\":0,\"ticks\":\"\"},\"colorscale\":[[0.0,\"#0d0887\"],[0.1111111111111111,\"#46039f\"],[0.2222222222222222,\"#7201a8\"],[0.3333333333333333,\"#9c179e\"],[0.4444444444444444,\"#bd3786\"],[0.5555555555555556,\"#d8576b\"],[0.6666666666666666,\"#ed7953\"],[0.7777777777777778,\"#fb9f3a\"],[0.8888888888888888,\"#fdca26\"],[1.0,\"#f0f921\"]],\"type\":\"heatmapgl\"}],\"histogram\":[{\"marker\":{\"pattern\":{\"fillmode\":\"overlay\",\"size\":10,\"solidity\":0.2}},\"type\":\"histogram\"}],\"histogram2d\":[{\"colorbar\":{\"outlinewidth\":0,\"ticks\":\"\"},\"colorscale\":[[0.0,\"#0d0887\"],[0.1111111111111111,\"#46039f\"],[0.2222222222222222,\"#7201a8\"],[0.3333333333333333,\"#9c179e\"],[0.4444444444444444,\"#bd3786\"],[0.5555555555555556,\"#d8576b\"],[0.6666666666666666,\"#ed7953\"],[0.7777777777777778,\"#fb9f3a\"],[0.8888888888888888,\"#fdca26\"],[1.0,\"#f0f921\"]],\"type\":\"histogram2d\"}],\"histogram2dcontour\":[{\"colorbar\":{\"outlinewidth\":0,\"ticks\":\"\"},\"colorscale\":[[0.0,\"#0d0887\"],[0.1111111111111111,\"#46039f\"],[0.2222222222222222,\"#7201a8\"],[0.3333333333333333,\"#9c179e\"],[0.4444444444444444,\"#bd3786\"],[0.5555555555555556,\"#d8576b\"],[0.6666666666666666,\"#ed7953\"],[0.7777777777777778,\"#fb9f3a\"],[0.8888888888888888,\"#fdca26\"],[1.0,\"#f0f921\"]],\"type\":\"histogram2dcontour\"}],\"mesh3d\":[{\"colorbar\":{\"outlinewidth\":0,\"ticks\":\"\"},\"type\":\"mesh3d\"}],\"parcoords\":[{\"line\":{\"colorbar\":{\"outlinewidth\":0,\"ticks\":\"\"}},\"type\":\"parcoords\"}],\"pie\":[{\"automargin\":true,\"type\":\"pie\"}],\"scatter\":[{\"marker\":{\"colorbar\":{\"outlinewidth\":0,\"ticks\":\"\"}},\"type\":\"scatter\"}],\"scatter3d\":[{\"line\":{\"colorbar\":{\"outlinewidth\":0,\"ticks\":\"\"}},\"marker\":{\"colorbar\":{\"outlinewidth\":0,\"ticks\":\"\"}},\"type\":\"scatter3d\"}],\"scattercarpet\":[{\"marker\":{\"colorbar\":{\"outlinewidth\":0,\"ticks\":\"\"}},\"type\":\"scattercarpet\"}],\"scattergeo\":[{\"marker\":{\"colorbar\":{\"outlinewidth\":0,\"ticks\":\"\"}},\"type\":\"scattergeo\"}],\"scattergl\":[{\"marker\":{\"colorbar\":{\"outlinewidth\":0,\"ticks\":\"\"}},\"type\":\"scattergl\"}],\"scattermapbox\":[{\"marker\":{\"colorbar\":{\"outlinewidth\":0,\"ticks\":\"\"}},\"type\":\"scattermapbox\"}],\"scatterpolar\":[{\"marker\":{\"colorbar\":{\"outlinewidth\":0,\"ticks\":\"\"}},\"type\":\"scatterpolar\"}],\"scatterpolargl\":[{\"marker\":{\"colorbar\":{\"outlinewidth\":0,\"ticks\":\"\"}},\"type\":\"scatterpolargl\"}],\"scatterternary\":[{\"marker\":{\"colorbar\":{\"outlinewidth\":0,\"ticks\":\"\"}},\"type\":\"scatterternary\"}],\"surface\":[{\"colorbar\":{\"outlinewidth\":0,\"ticks\":\"\"},\"colorscale\":[[0.0,\"#0d0887\"],[0.1111111111111111,\"#46039f\"],[0.2222222222222222,\"#7201a8\"],[0.3333333333333333,\"#9c179e\"],[0.4444444444444444,\"#bd3786\"],[0.5555555555555556,\"#d8576b\"],[0.6666666666666666,\"#ed7953\"],[0.7777777777777778,\"#fb9f3a\"],[0.8888888888888888,\"#fdca26\"],[1.0,\"#f0f921\"]],\"type\":\"surface\"}],\"table\":[{\"cells\":{\"fill\":{\"color\":\"#EBF0F8\"},\"line\":{\"color\":\"white\"}},\"header\":{\"fill\":{\"color\":\"#C8D4E3\"},\"line\":{\"color\":\"white\"}},\"type\":\"table\"}]},\"layout\":{\"annotationdefaults\":{\"arrowcolor\":\"#2a3f5f\",\"arrowhead\":0,\"arrowwidth\":1},\"autotypenumbers\":\"strict\",\"coloraxis\":{\"colorbar\":{\"outlinewidth\":0,\"ticks\":\"\"}},\"colorscale\":{\"diverging\":[[0,\"#8e0152\"],[0.1,\"#c51b7d\"],[0.2,\"#de77ae\"],[0.3,\"#f1b6da\"],[0.4,\"#fde0ef\"],[0.5,\"#f7f7f7\"],[0.6,\"#e6f5d0\"],[0.7,\"#b8e186\"],[0.8,\"#7fbc41\"],[0.9,\"#4d9221\"],[1,\"#276419\"]],\"sequential\":[[0.0,\"#0d0887\"],[0.1111111111111111,\"#46039f\"],[0.2222222222222222,\"#7201a8\"],[0.3333333333333333,\"#9c179e\"],[0.4444444444444444,\"#bd3786\"],[0.5555555555555556,\"#d8576b\"],[0.6666666666666666,\"#ed7953\"],[0.7777777777777778,\"#fb9f3a\"],[0.8888888888888888,\"#fdca26\"],[1.0,\"#f0f921\"]],\"sequentialminus\":[[0.0,\"#0d0887\"],[0.1111111111111111,\"#46039f\"],[0.2222222222222222,\"#7201a8\"],[0.3333333333333333,\"#9c179e\"],[0.4444444444444444,\"#bd3786\"],[0.5555555555555556,\"#d8576b\"],[0.6666666666666666,\"#ed7953\"],[0.7777777777777778,\"#fb9f3a\"],[0.8888888888888888,\"#fdca26\"],[1.0,\"#f0f921\"]]},\"colorway\":[\"#636efa\",\"#EF553B\",\"#00cc96\",\"#ab63fa\",\"#FFA15A\",\"#19d3f3\",\"#FF6692\",\"#B6E880\",\"#FF97FF\",\"#FECB52\"],\"font\":{\"color\":\"#2a3f5f\"},\"geo\":{\"bgcolor\":\"white\",\"lakecolor\":\"white\",\"landcolor\":\"#E5ECF6\",\"showlakes\":true,\"showland\":true,\"subunitcolor\":\"white\"},\"hoverlabel\":{\"align\":\"left\"},\"hovermode\":\"closest\",\"mapbox\":{\"style\":\"light\"},\"paper_bgcolor\":\"white\",\"plot_bgcolor\":\"#E5ECF6\",\"polar\":{\"angularaxis\":{\"gridcolor\":\"white\",\"linecolor\":\"white\",\"ticks\":\"\"},\"bgcolor\":\"#E5ECF6\",\"radialaxis\":{\"gridcolor\":\"white\",\"linecolor\":\"white\",\"ticks\":\"\"}},\"scene\":{\"xaxis\":{\"backgroundcolor\":\"#E5ECF6\",\"gridcolor\":\"white\",\"gridwidth\":2,\"linecolor\":\"white\",\"showbackground\":true,\"ticks\":\"\",\"zerolinecolor\":\"white\"},\"yaxis\":{\"backgroundcolor\":\"#E5ECF6\",\"gridcolor\":\"white\",\"gridwidth\":2,\"linecolor\":\"white\",\"showbackground\":true,\"ticks\":\"\",\"zerolinecolor\":\"white\"},\"zaxis\":{\"backgroundcolor\":\"#E5ECF6\",\"gridcolor\":\"white\",\"gridwidth\":2,\"linecolor\":\"white\",\"showbackground\":true,\"ticks\":\"\",\"zerolinecolor\":\"white\"}},\"shapedefaults\":{\"line\":{\"color\":\"#2a3f5f\"}},\"ternary\":{\"aaxis\":{\"gridcolor\":\"white\",\"linecolor\":\"white\",\"ticks\":\"\"},\"baxis\":{\"gridcolor\":\"white\",\"linecolor\":\"white\",\"ticks\":\"\"},\"bgcolor\":\"#E5ECF6\",\"caxis\":{\"gridcolor\":\"white\",\"linecolor\":\"white\",\"ticks\":\"\"}},\"title\":{\"x\":0.05},\"xaxis\":{\"automargin\":true,\"gridcolor\":\"white\",\"linecolor\":\"white\",\"ticks\":\"\",\"title\":{\"standoff\":15},\"zerolinecolor\":\"white\",\"zerolinewidth\":2},\"yaxis\":{\"automargin\":true,\"gridcolor\":\"white\",\"linecolor\":\"white\",\"ticks\":\"\",\"title\":{\"standoff\":15},\"zerolinecolor\":\"white\",\"zerolinewidth\":2}}},\"xaxis\":{\"anchor\":\"y\",\"domain\":[0.0,1.0],\"title\":{\"text\":\"Title\"},\"categoryorder\":\"total descending\"},\"yaxis\":{\"anchor\":\"x\",\"domain\":[0.0,1.0],\"title\":{\"text\":\"IMDB Score\"}},\"legend\":{\"tracegroupgap\":0},\"margin\":{\"t\":60},\"barmode\":\"relative\"},                        {\"responsive\": true}                    ).then(function(){\n",
              "                            \n",
              "var gd = document.getElementById('9a1b7419-37d6-46b2-87c5-f51b0f47f29a');\n",
              "var x = new MutationObserver(function (mutations, observer) {{\n",
              "        var display = window.getComputedStyle(gd).display;\n",
              "        if (!display || display === 'none') {{\n",
              "            console.log([gd, 'removed!']);\n",
              "            Plotly.purge(gd);\n",
              "            observer.disconnect();\n",
              "        }}\n",
              "}});\n",
              "\n",
              "// Listen for the removal of the full notebook cells\n",
              "var notebookContainer = gd.closest('#notebook-container');\n",
              "if (notebookContainer) {{\n",
              "    x.observe(notebookContainer, {childList: true});\n",
              "}}\n",
              "\n",
              "// Listen for the clearing of the current output cell\n",
              "var outputEl = gd.closest('.output');\n",
              "if (outputEl) {{\n",
              "    x.observe(outputEl, {childList: true});\n",
              "}}\n",
              "\n",
              "                        })                };                            </script>        </div>\n",
              "</body>\n",
              "</html>"
            ]
          },
          "metadata": {}
        }
      ]
    },
    {
      "cell_type": "markdown",
      "source": [
        "Görselde x ekseni Documentary türündeki filmleri gösterirken y ekseni bu filmlerin IMDB puanlarını göstermektedir.\n",
        "\n",
        "Grafiğe bakıldığında Documentary kategorisinde en yüksek IMDB puanına sahip filmler 6.4 puan ile \"Murder to Mercy:The Cynto Brown Story\" ve \"Birders\" iken en düşük IMDB puanına sahip olan film ise 2.5 puan ile \"Enter the Anime\"dir."
      ],
      "metadata": {
        "id": "mcKVosGB5Jp5"
      }
    },
    {
      "cell_type": "markdown",
      "source": [
        "3. İngilizce çekilen filmler içerisinde hangi tür en yüksek IMDB puanına sahiptir?"
      ],
      "metadata": {
        "id": "a0WfBSy6iLEN"
      }
    },
    {
      "cell_type": "code",
      "source": [
        "d=veri.query(\"Language=='English'\")  #query() methodu ile dili ingilizce olan filmlerin sorgusu yeni bir dataframe oluşturularak getirilir.\n",
        "d=d.sort_values(by=\"IMDB Score\",ascending=False) #IMDB puanına göre azalan olarak sıralanır.\n",
        "print(d.iloc[0])"
      ],
      "metadata": {
        "colab": {
          "base_uri": "https://localhost:8080/"
        },
        "id": "m4ULEPFIiOiG",
        "outputId": "9e66583a-b23a-4438-b296-6eff6ce36a35"
      },
      "execution_count": null,
      "outputs": [
        {
          "output_type": "stream",
          "name": "stdout",
          "text": [
            "Title         David Attenborough: A Life on Our Planet\n",
            "Genre                                      Documentary\n",
            "Premiere                               October 4, 2020\n",
            "Runtime                                             83\n",
            "IMDB Score                                         9.0\n",
            "Language                                       English\n",
            "Date                               2020-10-04 00:00:00\n",
            "Name: 583, dtype: object\n"
          ]
        }
      ]
    },
    {
      "cell_type": "markdown",
      "source": [
        "Görüldüğü gibi en yüksek IMDB puanına sahip olan filmler 9.0 puan ile İngilizcedir."
      ],
      "metadata": {
        "id": "dGw_B-GeruPF"
      }
    },
    {
      "cell_type": "markdown",
      "source": [
        "4. 'Hindi' Dilinde çekilmiş olan filmlerin ortalama 'runtime' suresi nedir?"
      ],
      "metadata": {
        "id": "3Ka31NuRiPB3"
      }
    },
    {
      "cell_type": "code",
      "source": [
        "r=veri[\"Runtime\"] \n",
        "l=veri[\"Language\"] \n",
        "sum=0              \n",
        "counter=0\n",
        "c=0               # c değişkeni burada hindi dilinde çekilmiş olan film sayısını verir.\n",
        "for i in l:\n",
        "  if i==\"Hindi\":\n",
        "    sum+=r[counter]\n",
        "    c+=1\n",
        "  counter+=1\n",
        "\n",
        "print(sum/c)      # Hindi dilindeki filmlerin toplam süresi / Hindi dilindeki filmlerin toplam sayısı"
      ],
      "metadata": {
        "colab": {
          "base_uri": "https://localhost:8080/"
        },
        "id": "1aC2eR-XiXef",
        "outputId": "a8f46e9f-7831-44ff-e5d1-e0d7e390a6a5"
      },
      "execution_count": null,
      "outputs": [
        {
          "output_type": "stream",
          "name": "stdout",
          "text": [
            "115.78787878787878\n"
          ]
        }
      ]
    },
    {
      "cell_type": "markdown",
      "source": [
        "Hindi dilinde çekilmiş filmerin ortalama runtime süresi 115.78 dir."
      ],
      "metadata": {
        "id": "RnKjIwbQsE-b"
      }
    },
    {
      "cell_type": "markdown",
      "source": [
        "5. 'Genre' Sütunu kaç kategoriye sahiptir ve bu kategoriler nelerdir? Görselleştirerek ifade ediniz."
      ],
      "metadata": {
        "id": "w9aUMWruiXtj"
      }
    },
    {
      "cell_type": "code",
      "source": [
        "print('Toplam Tür kategorisi:' ,veri[\"Genre\"].nunique())  # nunique() yöntemi, her sütun için benzersiz değerlerin sayısını döndürür.\n",
        "print(veri[\"Genre\"].value_counts())                       # Tür sayısını yazdırdık. \n",
        "toplam_tür = veri[\"Genre\"].value_counts().nlargest(10)\n",
        "#nlargest() yöntemi, bir veri setinden veya bir diziden en büyük n değeri elde etmek için kullanılır. \n",
        "# 10 türün içinden sayısı en çok olan türü getirmesini istedik ve bunu toplam_tür değişkenine atadık.\n",
        "\n",
        "#BarPlot Çizimi\n",
        "grafik = px.bar(data_frame=toplam_tür, x=toplam_tür.index, y=toplam_tür.values, labels={\"y\":\"Count\", \"index\":\"Genres\"},title=(\"Total Number of Species by Categories\"))\n",
        "grafik.update_layout(xaxis={\"categoryorder\":\"total descending\"})\n",
        "grafik.show()"
      ],
      "metadata": {
        "colab": {
          "base_uri": "https://localhost:8080/",
          "height": 778
        },
        "id": "gvb7iRBSiZn3",
        "outputId": "7211aa27-0720-483c-d754-5fb9a5cb75dd"
      },
      "execution_count": null,
      "outputs": [
        {
          "output_type": "stream",
          "name": "stdout",
          "text": [
            "Toplam Tür kategorisi: 115\n",
            "Documentary                             159\n",
            "Drama                                    77\n",
            "Comedy                                   49\n",
            "Romantic comedy                          39\n",
            "Thriller                                 33\n",
            "                                       ... \n",
            "Romantic comedy-drama                     1\n",
            "Heist film/Thriller                       1\n",
            "Musical/Western/Fantasy                   1\n",
            "Horror anthology                          1\n",
            "Animation/Christmas/Comedy/Adventure      1\n",
            "Name: Genre, Length: 115, dtype: int64\n"
          ]
        },
        {
          "output_type": "display_data",
          "data": {
            "text/html": [
              "<html>\n",
              "<head><meta charset=\"utf-8\" /></head>\n",
              "<body>\n",
              "    <div>            <script src=\"https://cdnjs.cloudflare.com/ajax/libs/mathjax/2.7.5/MathJax.js?config=TeX-AMS-MML_SVG\"></script><script type=\"text/javascript\">if (window.MathJax) {MathJax.Hub.Config({SVG: {font: \"STIX-Web\"}});}</script>                <script type=\"text/javascript\">window.PlotlyConfig = {MathJaxConfig: 'local'};</script>\n",
              "        <script src=\"https://cdn.plot.ly/plotly-2.8.3.min.js\"></script>                <div id=\"cb526e31-b84f-4741-af3b-6e9d65687409\" class=\"plotly-graph-div\" style=\"height:525px; width:100%;\"></div>            <script type=\"text/javascript\">                                    window.PLOTLYENV=window.PLOTLYENV || {};                                    if (document.getElementById(\"cb526e31-b84f-4741-af3b-6e9d65687409\")) {                    Plotly.newPlot(                        \"cb526e31-b84f-4741-af3b-6e9d65687409\",                        [{\"alignmentgroup\":\"True\",\"hovertemplate\":\"Genres=%{x}<br>Count=%{y}<extra></extra>\",\"legendgroup\":\"\",\"marker\":{\"color\":\"#636efa\",\"pattern\":{\"shape\":\"\"}},\"name\":\"\",\"offsetgroup\":\"\",\"orientation\":\"v\",\"showlegend\":false,\"textposition\":\"auto\",\"x\":[\"Documentary\",\"Drama\",\"Comedy\",\"Romantic comedy\",\"Thriller\",\"Comedy-drama\",\"Crime drama\",\"Biopic\",\"Horror\",\"Action\"],\"xaxis\":\"x\",\"y\":[159,77,49,39,33,14,11,9,9,7],\"yaxis\":\"y\",\"type\":\"bar\"}],                        {\"template\":{\"data\":{\"bar\":[{\"error_x\":{\"color\":\"#2a3f5f\"},\"error_y\":{\"color\":\"#2a3f5f\"},\"marker\":{\"line\":{\"color\":\"#E5ECF6\",\"width\":0.5},\"pattern\":{\"fillmode\":\"overlay\",\"size\":10,\"solidity\":0.2}},\"type\":\"bar\"}],\"barpolar\":[{\"marker\":{\"line\":{\"color\":\"#E5ECF6\",\"width\":0.5},\"pattern\":{\"fillmode\":\"overlay\",\"size\":10,\"solidity\":0.2}},\"type\":\"barpolar\"}],\"carpet\":[{\"aaxis\":{\"endlinecolor\":\"#2a3f5f\",\"gridcolor\":\"white\",\"linecolor\":\"white\",\"minorgridcolor\":\"white\",\"startlinecolor\":\"#2a3f5f\"},\"baxis\":{\"endlinecolor\":\"#2a3f5f\",\"gridcolor\":\"white\",\"linecolor\":\"white\",\"minorgridcolor\":\"white\",\"startlinecolor\":\"#2a3f5f\"},\"type\":\"carpet\"}],\"choropleth\":[{\"colorbar\":{\"outlinewidth\":0,\"ticks\":\"\"},\"type\":\"choropleth\"}],\"contour\":[{\"colorbar\":{\"outlinewidth\":0,\"ticks\":\"\"},\"colorscale\":[[0.0,\"#0d0887\"],[0.1111111111111111,\"#46039f\"],[0.2222222222222222,\"#7201a8\"],[0.3333333333333333,\"#9c179e\"],[0.4444444444444444,\"#bd3786\"],[0.5555555555555556,\"#d8576b\"],[0.6666666666666666,\"#ed7953\"],[0.7777777777777778,\"#fb9f3a\"],[0.8888888888888888,\"#fdca26\"],[1.0,\"#f0f921\"]],\"type\":\"contour\"}],\"contourcarpet\":[{\"colorbar\":{\"outlinewidth\":0,\"ticks\":\"\"},\"type\":\"contourcarpet\"}],\"heatmap\":[{\"colorbar\":{\"outlinewidth\":0,\"ticks\":\"\"},\"colorscale\":[[0.0,\"#0d0887\"],[0.1111111111111111,\"#46039f\"],[0.2222222222222222,\"#7201a8\"],[0.3333333333333333,\"#9c179e\"],[0.4444444444444444,\"#bd3786\"],[0.5555555555555556,\"#d8576b\"],[0.6666666666666666,\"#ed7953\"],[0.7777777777777778,\"#fb9f3a\"],[0.8888888888888888,\"#fdca26\"],[1.0,\"#f0f921\"]],\"type\":\"heatmap\"}],\"heatmapgl\":[{\"colorbar\":{\"outlinewidth\":0,\"ticks\":\"\"},\"colorscale\":[[0.0,\"#0d0887\"],[0.1111111111111111,\"#46039f\"],[0.2222222222222222,\"#7201a8\"],[0.3333333333333333,\"#9c179e\"],[0.4444444444444444,\"#bd3786\"],[0.5555555555555556,\"#d8576b\"],[0.6666666666666666,\"#ed7953\"],[0.7777777777777778,\"#fb9f3a\"],[0.8888888888888888,\"#fdca26\"],[1.0,\"#f0f921\"]],\"type\":\"heatmapgl\"}],\"histogram\":[{\"marker\":{\"pattern\":{\"fillmode\":\"overlay\",\"size\":10,\"solidity\":0.2}},\"type\":\"histogram\"}],\"histogram2d\":[{\"colorbar\":{\"outlinewidth\":0,\"ticks\":\"\"},\"colorscale\":[[0.0,\"#0d0887\"],[0.1111111111111111,\"#46039f\"],[0.2222222222222222,\"#7201a8\"],[0.3333333333333333,\"#9c179e\"],[0.4444444444444444,\"#bd3786\"],[0.5555555555555556,\"#d8576b\"],[0.6666666666666666,\"#ed7953\"],[0.7777777777777778,\"#fb9f3a\"],[0.8888888888888888,\"#fdca26\"],[1.0,\"#f0f921\"]],\"type\":\"histogram2d\"}],\"histogram2dcontour\":[{\"colorbar\":{\"outlinewidth\":0,\"ticks\":\"\"},\"colorscale\":[[0.0,\"#0d0887\"],[0.1111111111111111,\"#46039f\"],[0.2222222222222222,\"#7201a8\"],[0.3333333333333333,\"#9c179e\"],[0.4444444444444444,\"#bd3786\"],[0.5555555555555556,\"#d8576b\"],[0.6666666666666666,\"#ed7953\"],[0.7777777777777778,\"#fb9f3a\"],[0.8888888888888888,\"#fdca26\"],[1.0,\"#f0f921\"]],\"type\":\"histogram2dcontour\"}],\"mesh3d\":[{\"colorbar\":{\"outlinewidth\":0,\"ticks\":\"\"},\"type\":\"mesh3d\"}],\"parcoords\":[{\"line\":{\"colorbar\":{\"outlinewidth\":0,\"ticks\":\"\"}},\"type\":\"parcoords\"}],\"pie\":[{\"automargin\":true,\"type\":\"pie\"}],\"scatter\":[{\"marker\":{\"colorbar\":{\"outlinewidth\":0,\"ticks\":\"\"}},\"type\":\"scatter\"}],\"scatter3d\":[{\"line\":{\"colorbar\":{\"outlinewidth\":0,\"ticks\":\"\"}},\"marker\":{\"colorbar\":{\"outlinewidth\":0,\"ticks\":\"\"}},\"type\":\"scatter3d\"}],\"scattercarpet\":[{\"marker\":{\"colorbar\":{\"outlinewidth\":0,\"ticks\":\"\"}},\"type\":\"scattercarpet\"}],\"scattergeo\":[{\"marker\":{\"colorbar\":{\"outlinewidth\":0,\"ticks\":\"\"}},\"type\":\"scattergeo\"}],\"scattergl\":[{\"marker\":{\"colorbar\":{\"outlinewidth\":0,\"ticks\":\"\"}},\"type\":\"scattergl\"}],\"scattermapbox\":[{\"marker\":{\"colorbar\":{\"outlinewidth\":0,\"ticks\":\"\"}},\"type\":\"scattermapbox\"}],\"scatterpolar\":[{\"marker\":{\"colorbar\":{\"outlinewidth\":0,\"ticks\":\"\"}},\"type\":\"scatterpolar\"}],\"scatterpolargl\":[{\"marker\":{\"colorbar\":{\"outlinewidth\":0,\"ticks\":\"\"}},\"type\":\"scatterpolargl\"}],\"scatterternary\":[{\"marker\":{\"colorbar\":{\"outlinewidth\":0,\"ticks\":\"\"}},\"type\":\"scatterternary\"}],\"surface\":[{\"colorbar\":{\"outlinewidth\":0,\"ticks\":\"\"},\"colorscale\":[[0.0,\"#0d0887\"],[0.1111111111111111,\"#46039f\"],[0.2222222222222222,\"#7201a8\"],[0.3333333333333333,\"#9c179e\"],[0.4444444444444444,\"#bd3786\"],[0.5555555555555556,\"#d8576b\"],[0.6666666666666666,\"#ed7953\"],[0.7777777777777778,\"#fb9f3a\"],[0.8888888888888888,\"#fdca26\"],[1.0,\"#f0f921\"]],\"type\":\"surface\"}],\"table\":[{\"cells\":{\"fill\":{\"color\":\"#EBF0F8\"},\"line\":{\"color\":\"white\"}},\"header\":{\"fill\":{\"color\":\"#C8D4E3\"},\"line\":{\"color\":\"white\"}},\"type\":\"table\"}]},\"layout\":{\"annotationdefaults\":{\"arrowcolor\":\"#2a3f5f\",\"arrowhead\":0,\"arrowwidth\":1},\"autotypenumbers\":\"strict\",\"coloraxis\":{\"colorbar\":{\"outlinewidth\":0,\"ticks\":\"\"}},\"colorscale\":{\"diverging\":[[0,\"#8e0152\"],[0.1,\"#c51b7d\"],[0.2,\"#de77ae\"],[0.3,\"#f1b6da\"],[0.4,\"#fde0ef\"],[0.5,\"#f7f7f7\"],[0.6,\"#e6f5d0\"],[0.7,\"#b8e186\"],[0.8,\"#7fbc41\"],[0.9,\"#4d9221\"],[1,\"#276419\"]],\"sequential\":[[0.0,\"#0d0887\"],[0.1111111111111111,\"#46039f\"],[0.2222222222222222,\"#7201a8\"],[0.3333333333333333,\"#9c179e\"],[0.4444444444444444,\"#bd3786\"],[0.5555555555555556,\"#d8576b\"],[0.6666666666666666,\"#ed7953\"],[0.7777777777777778,\"#fb9f3a\"],[0.8888888888888888,\"#fdca26\"],[1.0,\"#f0f921\"]],\"sequentialminus\":[[0.0,\"#0d0887\"],[0.1111111111111111,\"#46039f\"],[0.2222222222222222,\"#7201a8\"],[0.3333333333333333,\"#9c179e\"],[0.4444444444444444,\"#bd3786\"],[0.5555555555555556,\"#d8576b\"],[0.6666666666666666,\"#ed7953\"],[0.7777777777777778,\"#fb9f3a\"],[0.8888888888888888,\"#fdca26\"],[1.0,\"#f0f921\"]]},\"colorway\":[\"#636efa\",\"#EF553B\",\"#00cc96\",\"#ab63fa\",\"#FFA15A\",\"#19d3f3\",\"#FF6692\",\"#B6E880\",\"#FF97FF\",\"#FECB52\"],\"font\":{\"color\":\"#2a3f5f\"},\"geo\":{\"bgcolor\":\"white\",\"lakecolor\":\"white\",\"landcolor\":\"#E5ECF6\",\"showlakes\":true,\"showland\":true,\"subunitcolor\":\"white\"},\"hoverlabel\":{\"align\":\"left\"},\"hovermode\":\"closest\",\"mapbox\":{\"style\":\"light\"},\"paper_bgcolor\":\"white\",\"plot_bgcolor\":\"#E5ECF6\",\"polar\":{\"angularaxis\":{\"gridcolor\":\"white\",\"linecolor\":\"white\",\"ticks\":\"\"},\"bgcolor\":\"#E5ECF6\",\"radialaxis\":{\"gridcolor\":\"white\",\"linecolor\":\"white\",\"ticks\":\"\"}},\"scene\":{\"xaxis\":{\"backgroundcolor\":\"#E5ECF6\",\"gridcolor\":\"white\",\"gridwidth\":2,\"linecolor\":\"white\",\"showbackground\":true,\"ticks\":\"\",\"zerolinecolor\":\"white\"},\"yaxis\":{\"backgroundcolor\":\"#E5ECF6\",\"gridcolor\":\"white\",\"gridwidth\":2,\"linecolor\":\"white\",\"showbackground\":true,\"ticks\":\"\",\"zerolinecolor\":\"white\"},\"zaxis\":{\"backgroundcolor\":\"#E5ECF6\",\"gridcolor\":\"white\",\"gridwidth\":2,\"linecolor\":\"white\",\"showbackground\":true,\"ticks\":\"\",\"zerolinecolor\":\"white\"}},\"shapedefaults\":{\"line\":{\"color\":\"#2a3f5f\"}},\"ternary\":{\"aaxis\":{\"gridcolor\":\"white\",\"linecolor\":\"white\",\"ticks\":\"\"},\"baxis\":{\"gridcolor\":\"white\",\"linecolor\":\"white\",\"ticks\":\"\"},\"bgcolor\":\"#E5ECF6\",\"caxis\":{\"gridcolor\":\"white\",\"linecolor\":\"white\",\"ticks\":\"\"}},\"title\":{\"x\":0.05},\"xaxis\":{\"automargin\":true,\"gridcolor\":\"white\",\"linecolor\":\"white\",\"ticks\":\"\",\"title\":{\"standoff\":15},\"zerolinecolor\":\"white\",\"zerolinewidth\":2},\"yaxis\":{\"automargin\":true,\"gridcolor\":\"white\",\"linecolor\":\"white\",\"ticks\":\"\",\"title\":{\"standoff\":15},\"zerolinecolor\":\"white\",\"zerolinewidth\":2}}},\"xaxis\":{\"anchor\":\"y\",\"domain\":[0.0,1.0],\"title\":{\"text\":\"Genres\"},\"categoryorder\":\"total descending\"},\"yaxis\":{\"anchor\":\"x\",\"domain\":[0.0,1.0],\"title\":{\"text\":\"Count\"}},\"legend\":{\"tracegroupgap\":0},\"title\":{\"text\":\"Total Number of Species by Categories\"},\"barmode\":\"relative\"},                        {\"responsive\": true}                    ).then(function(){\n",
              "                            \n",
              "var gd = document.getElementById('cb526e31-b84f-4741-af3b-6e9d65687409');\n",
              "var x = new MutationObserver(function (mutations, observer) {{\n",
              "        var display = window.getComputedStyle(gd).display;\n",
              "        if (!display || display === 'none') {{\n",
              "            console.log([gd, 'removed!']);\n",
              "            Plotly.purge(gd);\n",
              "            observer.disconnect();\n",
              "        }}\n",
              "}});\n",
              "\n",
              "// Listen for the removal of the full notebook cells\n",
              "var notebookContainer = gd.closest('#notebook-container');\n",
              "if (notebookContainer) {{\n",
              "    x.observe(notebookContainer, {childList: true});\n",
              "}}\n",
              "\n",
              "// Listen for the clearing of the current output cell\n",
              "var outputEl = gd.closest('.output');\n",
              "if (outputEl) {{\n",
              "    x.observe(outputEl, {childList: true});\n",
              "}}\n",
              "\n",
              "                        })                };                            </script>        </div>\n",
              "</body>\n",
              "</html>"
            ]
          },
          "metadata": {}
        }
      ]
    },
    {
      "cell_type": "markdown",
      "source": [
        "Grafikte x ekseni film türlerini gösterirken y ekseni bu türe ait olan film sayılarını gösterir.\n",
        "\n",
        "Görüldüğü üzere, filmlerin çoğu Documentary kategorisinde iken, en az sayıda film olan kategori Action dır. "
      ],
      "metadata": {
        "id": "c3_KEJH8arB9"
      }
    },
    {
      "cell_type": "markdown",
      "source": [
        "6. Veri setinde bulunan filmlerde en çok kullanılan 3 dili bulunuz.\n"
      ],
      "metadata": {
        "id": "8JIT0FD5jllF"
      }
    },
    {
      "cell_type": "code",
      "source": [
        "print(veri.Language.value_counts().head(3))"
      ],
      "metadata": {
        "colab": {
          "base_uri": "https://localhost:8080/"
        },
        "id": "BtTccjsVjsOd",
        "outputId": "0d293e7a-a203-42f3-f2bc-535016825407"
      },
      "execution_count": null,
      "outputs": [
        {
          "output_type": "stream",
          "name": "stdout",
          "text": [
            "English    401\n",
            "Hindi       33\n",
            "Spanish     31\n",
            "Name: Language, dtype: int64\n"
          ]
        }
      ]
    },
    {
      "cell_type": "markdown",
      "source": [
        "Veri setinde 401 tane olmak üzere en çok sayıda bulunan film İngilizcedir. İkinci sırada 33 tane film ile Hindi dilidir. Son olarak 31 tane film ise İspanyolcadır."
      ],
      "metadata": {
        "id": "GmxPxBK8vtRZ"
      }
    },
    {
      "cell_type": "markdown",
      "source": [
        "7. IMDB puanı en yüksek olan ilk 10 film hangileridir?"
      ],
      "metadata": {
        "id": "cVwkvjtzjsgn"
      }
    },
    {
      "cell_type": "code",
      "source": [
        "en_yuksek_IMDB= veri.sort_values(by=\"IMDB Score\",ascending=False)[:10]\n",
        "print(en_yuksek_IMDB['Title'])\n",
        "\n",
        "#ScatterPlot Çizimi\n",
        "sns.scatterplot(x=en_yuksek_IMDB['IMDB Score'],y=en_yuksek_IMDB['Title'])"
      ],
      "metadata": {
        "colab": {
          "base_uri": "https://localhost:8080/",
          "height": 497
        },
        "id": "WflyPd8_krBb",
        "outputId": "ef11e353-2f59-44b4-b98c-5267fb0f0948"
      },
      "execution_count": null,
      "outputs": [
        {
          "output_type": "stream",
          "name": "stdout",
          "text": [
            "583       David Attenborough: A Life on Our Planet\n",
            "582      Emicida: AmarElo - It's All For Yesterday\n",
            "581                        Springsteen on Broadway\n",
            "580    Winter on Fire: Ukraine's Fight for Freedom\n",
            "579          Taylor Swift: Reputation Stadium Tour\n",
            "578     Ben Platt: Live from Radio City Music Hall\n",
            "577                         Dancing with the Birds\n",
            "576                        Cuba and the Cameraman \n",
            "573                                          Klaus\n",
            "571                                           13th\n",
            "Name: Title, dtype: object\n"
          ]
        },
        {
          "output_type": "execute_result",
          "data": {
            "text/plain": [
              "<matplotlib.axes._subplots.AxesSubplot at 0x7fbda604ae10>"
            ]
          },
          "metadata": {},
          "execution_count": 57
        },
        {
          "output_type": "display_data",
          "data": {
            "text/plain": [
              "<Figure size 432x288 with 1 Axes>"
            ],
            "image/png": "[encoded data removed]"
          },
          "metadata": {
            "needs_background": "light"
          }
        }
      ]
    },
    {
      "cell_type": "markdown",
      "source": [
        "Grafikte x ekseni IMDB puanını gösterirken y ekseni filmleri göstermektedir. En yüksek IMDB puanına sahip film \"David Attenborough : A life on Our PLanet\" iken en düşük IMDB puanına sahip film ise \"13th\" dir."
      ],
      "metadata": {
        "id": "5Nm0mgQ2yrmF"
      }
    },
    {
      "cell_type": "markdown",
      "source": [
        "8. IMDB puanı ile 'Runtime' arasında nasıl bir korelasyon vardır? İnceleyip görselleştiriniz."
      ],
      "metadata": {
        "id": "yoS0xwkalCuZ"
      }
    },
    {
      "cell_type": "code",
      "source": [
        "cor_analiz=veri.corr()\n",
        "cor_analiz \n",
        "#Heatmap Çizimi\n",
        "sns.heatmap(cor_analiz, annot= True)"
      ],
      "metadata": {
        "colab": {
          "base_uri": "https://localhost:8080/",
          "height": 287
        },
        "id": "-Bgjm1OOlFcB",
        "outputId": "e1088d91-ec32-41c1-8699-4aa3e40189c8"
      },
      "execution_count": null,
      "outputs": [
        {
          "output_type": "execute_result",
          "data": {
            "text/plain": [
              "<matplotlib.axes._subplots.AxesSubplot at 0x7fbda615c890>"
            ]
          },
          "metadata": {},
          "execution_count": 58
        },
        {
          "output_type": "display_data",
          "data": {
            "text/plain": [
              "<Figure size 432x288 with 2 Axes>"
            ],
            "image/png": "[encoded data removed]"
          },
          "metadata": {
            "needs_background": "light"
          }
        }
      ]
    },
    {
      "cell_type": "markdown",
      "source": [
        "Korelasyon katsayısının 0’a yaklaşması değişkenler arasında zayıf ilişkinin varlığını gösterir. Değişkenler birlikte artıyor veya azalıyorsa pozitif yönlü, değişkenlerden biri artarken diğeri azalıyorsa ise negatif yönlü bir ilişki vardır.\n",
        "\n",
        "Grafikte görüldüğü üzere Runtime ile IMDB puanı arasında negatif yönlü zayıf bir ilişki söz konusudur."
      ],
      "metadata": {
        "id": "amQJPhR-62Tv"
      }
    },
    {
      "cell_type": "markdown",
      "source": [
        "9. IMDB Puanı en yüksek olan ilk 10 'Genre' hangileridir? Görselleştiriniz."
      ],
      "metadata": {
        "id": "tjcedmO1lHDM"
      }
    },
    {
      "cell_type": "code",
      "source": [
        "en_yuksek_genre = veri.groupby(\"Genre\").agg({\"IMDB Score\": \"max\"}).sort_values(by=\"IMDB Score\", ascending=False)[:10].reset_index()\n",
        "print(en_yuksek_genre)\n",
        "\n",
        "#Barplot Çizimi\n",
        "plt.figure(figsize=(30,10))\n",
        "plt.bar(en_yuksek_genre[\"Genre\"], en_yuksek_genre[\"IMDB Score\"],color='green')\n",
        "plt.title('10 Species With The Highest IMDB Score')\n",
        "plt.show()"
      ],
      "metadata": {
        "colab": {
          "base_uri": "https://localhost:8080/",
          "height": 707
        },
        "id": "_q_Aui0tlJxh",
        "outputId": "443a1a6b-035c-497a-e83d-b012c00008dc"
      },
      "execution_count": null,
      "outputs": [
        {
          "output_type": "stream",
          "name": "stdout",
          "text": [
            "                                  Genre  IMDB Score\n",
            "0                           Documentary         9.0\n",
            "1                          One-man show         8.5\n",
            "2                          Concert Film         8.4\n",
            "3  Animation/Christmas/Comedy/Adventure         8.2\n",
            "4                                 Drama         7.9\n",
            "5                     Animation / Short         7.8\n",
            "6                           Crime drama         7.8\n",
            "7                       Musical / Short         7.7\n",
            "8                             Making-of         7.7\n",
            "9                             War drama         7.7\n"
          ]
        },
        {
          "output_type": "display_data",
          "data": {
            "text/plain": [
              "<Figure size 2160x720 with 1 Axes>"
            ],
            "image/png": "[encoded data removed]"
          },
          "metadata": {
            "needs_background": "light"
          }
        }
      ]
    },
    {
      "cell_type": "markdown",
      "source": [
        "Grafikte x ekseni film türlerini gösterirken y ekseni IMDB puanlarını göstermektedir. En yüksek IMDB puanına sahip olan film türü \"Documentary\", en düşük IMDB puanına sahip olan film türü ise \"War Drama\"dır."
      ],
      "metadata": {
        "id": "evDHPdZZ8B7f"
      }
    },
    {
      "cell_type": "markdown",
      "source": [
        "10. 'Runtime' değeri en yüksek olan ilk 10 film hangileridir? Görselleştiriniz."
      ],
      "metadata": {
        "id": "zdkr-G5BlJ9D"
      }
    },
    {
      "cell_type": "code",
      "source": [
        "runtime_top10=veri.sort_values(by=\"Runtime\",ascending=False)\n",
        "a=runtime_top10.head(10)[\"Title\"]   #x ekseni\n",
        "b=runtime_top10.head(10)[\"Runtime\"] #y ekseni\n",
        "\n",
        "#BarPlot Çizimi\n",
        "fig=plt.figure(figsize=(25,12))\n",
        "plt.bar(a,b,color=\"Purple\")\n",
        "plt.xlabel(\"Movies\")\n",
        "plt.ylabel(\"Runtime\")\n",
        "plt.show()"
      ],
      "metadata": {
        "colab": {
          "base_uri": "https://localhost:8080/",
          "height": 697
        },
        "id": "1JP3OuBPlL3J",
        "outputId": "913559a2-16fc-45d3-bc43-d04c3b14a840"
      },
      "execution_count": null,
      "outputs": [
        {
          "output_type": "display_data",
          "data": {
            "text/plain": [
              "<Figure size 1800x864 with 1 Axes>"
            ],
            "image/png": "[encoded data removed]"
          },
          "metadata": {
            "needs_background": "light"
          }
        }
      ]
    },
    {
      "cell_type": "markdown",
      "source": [
        "Grafikte x ekseni filmleri y ekseni ise Runtime sürelerini göstermektedir. Runtime süresi en yüksek olan film \"The Irıshman\" dir."
      ],
      "metadata": {
        "id": "alTH8rGB9qK8"
      }
    },
    {
      "cell_type": "markdown",
      "source": [
        "11. Hangi yılda en fazla film yayımlanmıştır? Görselleştiriniz."
      ],
      "metadata": {
        "id": "iUqt4WZTlMMN"
      }
    },
    {
      "cell_type": "code",
      "source": [
        "veri['Year'] = veri['Date'].dt.year\n",
        "veri['Year'].value_counts(sort=True)[0:1]\n",
        "year = veri['Year'].value_counts(sort=True)\n",
        "\n",
        "#BarPlot \n",
        "grafik = px.bar(data_frame=veri, x=year.index, y=year.values, labels={\"y\":\"Count of Movies per each Year\", \"x\":\"Year\"})\n",
        "grafik.update_layout(xaxis={'categoryorder':'total descending'})\n",
        "\n",
        "grafik.show()"
      ],
      "metadata": {
        "colab": {
          "base_uri": "https://localhost:8080/",
          "height": 542
        },
        "id": "55fID1o2lOUr",
        "outputId": "b8584b32-972a-4520-daaa-207fd55a01c2"
      },
      "execution_count": null,
      "outputs": [
        {
          "output_type": "display_data",
          "data": {
            "text/html": [
              "<html>\n",
              "<head><meta charset=\"utf-8\" /></head>\n",
              "<body>\n",
              "    <div>            <script src=\"https://cdnjs.cloudflare.com/ajax/libs/mathjax/2.7.5/MathJax.js?config=TeX-AMS-MML_SVG\"></script><script type=\"text/javascript\">if (window.MathJax) {MathJax.Hub.Config({SVG: {font: \"STIX-Web\"}});}</script>                <script type=\"text/javascript\">window.PlotlyConfig = {MathJaxConfig: 'local'};</script>\n",
              "        <script src=\"https://cdn.plot.ly/plotly-2.8.3.min.js\"></script>                <div id=\"1dfa790f-5ae0-4f3b-ba88-4b7c16ca9b1d\" class=\"plotly-graph-div\" style=\"height:525px; width:100%;\"></div>            <script type=\"text/javascript\">                                    window.PLOTLYENV=window.PLOTLYENV || {};                                    if (document.getElementById(\"1dfa790f-5ae0-4f3b-ba88-4b7c16ca9b1d\")) {                    Plotly.newPlot(                        \"1dfa790f-5ae0-4f3b-ba88-4b7c16ca9b1d\",                        [{\"alignmentgroup\":\"True\",\"hovertemplate\":\"Year=%{x}<br>Count of Movies per each Year=%{y}<extra></extra>\",\"legendgroup\":\"\",\"marker\":{\"color\":\"#636efa\",\"pattern\":{\"shape\":\"\"}},\"name\":\"\",\"offsetgroup\":\"\",\"orientation\":\"v\",\"showlegend\":false,\"textposition\":\"auto\",\"x\":[2020,2019,2018,2021,2017,2016,2015,2014],\"xaxis\":\"x\",\"y\":[183,125,99,71,66,30,9,1],\"yaxis\":\"y\",\"type\":\"bar\"}],                        {\"template\":{\"data\":{\"bar\":[{\"error_x\":{\"color\":\"#2a3f5f\"},\"error_y\":{\"color\":\"#2a3f5f\"},\"marker\":{\"line\":{\"color\":\"#E5ECF6\",\"width\":0.5},\"pattern\":{\"fillmode\":\"overlay\",\"size\":10,\"solidity\":0.2}},\"type\":\"bar\"}],\"barpolar\":[{\"marker\":{\"line\":{\"color\":\"#E5ECF6\",\"width\":0.5},\"pattern\":{\"fillmode\":\"overlay\",\"size\":10,\"solidity\":0.2}},\"type\":\"barpolar\"}],\"carpet\":[{\"aaxis\":{\"endlinecolor\":\"#2a3f5f\",\"gridcolor\":\"white\",\"linecolor\":\"white\",\"minorgridcolor\":\"white\",\"startlinecolor\":\"#2a3f5f\"},\"baxis\":{\"endlinecolor\":\"#2a3f5f\",\"gridcolor\":\"white\",\"linecolor\":\"white\",\"minorgridcolor\":\"white\",\"startlinecolor\":\"#2a3f5f\"},\"type\":\"carpet\"}],\"choropleth\":[{\"colorbar\":{\"outlinewidth\":0,\"ticks\":\"\"},\"type\":\"choropleth\"}],\"contour\":[{\"colorbar\":{\"outlinewidth\":0,\"ticks\":\"\"},\"colorscale\":[[0.0,\"#0d0887\"],[0.1111111111111111,\"#46039f\"],[0.2222222222222222,\"#7201a8\"],[0.3333333333333333,\"#9c179e\"],[0.4444444444444444,\"#bd3786\"],[0.5555555555555556,\"#d8576b\"],[0.6666666666666666,\"#ed7953\"],[0.7777777777777778,\"#fb9f3a\"],[0.8888888888888888,\"#fdca26\"],[1.0,\"#f0f921\"]],\"type\":\"contour\"}],\"contourcarpet\":[{\"colorbar\":{\"outlinewidth\":0,\"ticks\":\"\"},\"type\":\"contourcarpet\"}],\"heatmap\":[{\"colorbar\":{\"outlinewidth\":0,\"ticks\":\"\"},\"colorscale\":[[0.0,\"#0d0887\"],[0.1111111111111111,\"#46039f\"],[0.2222222222222222,\"#7201a8\"],[0.3333333333333333,\"#9c179e\"],[0.4444444444444444,\"#bd3786\"],[0.5555555555555556,\"#d8576b\"],[0.6666666666666666,\"#ed7953\"],[0.7777777777777778,\"#fb9f3a\"],[0.8888888888888888,\"#fdca26\"],[1.0,\"#f0f921\"]],\"type\":\"heatmap\"}],\"heatmapgl\":[{\"colorbar\":{\"outlinewidth\":0,\"ticks\":\"\"},\"colorscale\":[[0.0,\"#0d0887\"],[0.1111111111111111,\"#46039f\"],[0.2222222222222222,\"#7201a8\"],[0.3333333333333333,\"#9c179e\"],[0.4444444444444444,\"#bd3786\"],[0.5555555555555556,\"#d8576b\"],[0.6666666666666666,\"#ed7953\"],[0.7777777777777778,\"#fb9f3a\"],[0.8888888888888888,\"#fdca26\"],[1.0,\"#f0f921\"]],\"type\":\"heatmapgl\"}],\"histogram\":[{\"marker\":{\"pattern\":{\"fillmode\":\"overlay\",\"size\":10,\"solidity\":0.2}},\"type\":\"histogram\"}],\"histogram2d\":[{\"colorbar\":{\"outlinewidth\":0,\"ticks\":\"\"},\"colorscale\":[[0.0,\"#0d0887\"],[0.1111111111111111,\"#46039f\"],[0.2222222222222222,\"#7201a8\"],[0.3333333333333333,\"#9c179e\"],[0.4444444444444444,\"#bd3786\"],[0.5555555555555556,\"#d8576b\"],[0.6666666666666666,\"#ed7953\"],[0.7777777777777778,\"#fb9f3a\"],[0.8888888888888888,\"#fdca26\"],[1.0,\"#f0f921\"]],\"type\":\"histogram2d\"}],\"histogram2dcontour\":[{\"colorbar\":{\"outlinewidth\":0,\"ticks\":\"\"},\"colorscale\":[[0.0,\"#0d0887\"],[0.1111111111111111,\"#46039f\"],[0.2222222222222222,\"#7201a8\"],[0.3333333333333333,\"#9c179e\"],[0.4444444444444444,\"#bd3786\"],[0.5555555555555556,\"#d8576b\"],[0.6666666666666666,\"#ed7953\"],[0.7777777777777778,\"#fb9f3a\"],[0.8888888888888888,\"#fdca26\"],[1.0,\"#f0f921\"]],\"type\":\"histogram2dcontour\"}],\"mesh3d\":[{\"colorbar\":{\"outlinewidth\":0,\"ticks\":\"\"},\"type\":\"mesh3d\"}],\"parcoords\":[{\"line\":{\"colorbar\":{\"outlinewidth\":0,\"ticks\":\"\"}},\"type\":\"parcoords\"}],\"pie\":[{\"automargin\":true,\"type\":\"pie\"}],\"scatter\":[{\"marker\":{\"colorbar\":{\"outlinewidth\":0,\"ticks\":\"\"}},\"type\":\"scatter\"}],\"scatter3d\":[{\"line\":{\"colorbar\":{\"outlinewidth\":0,\"ticks\":\"\"}},\"marker\":{\"colorbar\":{\"outlinewidth\":0,\"ticks\":\"\"}},\"type\":\"scatter3d\"}],\"scattercarpet\":[{\"marker\":{\"colorbar\":{\"outlinewidth\":0,\"ticks\":\"\"}},\"type\":\"scattercarpet\"}],\"scattergeo\":[{\"marker\":{\"colorbar\":{\"outlinewidth\":0,\"ticks\":\"\"}},\"type\":\"scattergeo\"}],\"scattergl\":[{\"marker\":{\"colorbar\":{\"outlinewidth\":0,\"ticks\":\"\"}},\"type\":\"scattergl\"}],\"scattermapbox\":[{\"marker\":{\"colorbar\":{\"outlinewidth\":0,\"ticks\":\"\"}},\"type\":\"scattermapbox\"}],\"scatterpolar\":[{\"marker\":{\"colorbar\":{\"outlinewidth\":0,\"ticks\":\"\"}},\"type\":\"scatterpolar\"}],\"scatterpolargl\":[{\"marker\":{\"colorbar\":{\"outlinewidth\":0,\"ticks\":\"\"}},\"type\":\"scatterpolargl\"}],\"scatterternary\":[{\"marker\":{\"colorbar\":{\"outlinewidth\":0,\"ticks\":\"\"}},\"type\":\"scatterternary\"}],\"surface\":[{\"colorbar\":{\"outlinewidth\":0,\"ticks\":\"\"},\"colorscale\":[[0.0,\"#0d0887\"],[0.1111111111111111,\"#46039f\"],[0.2222222222222222,\"#7201a8\"],[0.3333333333333333,\"#9c179e\"],[0.4444444444444444,\"#bd3786\"],[0.5555555555555556,\"#d8576b\"],[0.6666666666666666,\"#ed7953\"],[0.7777777777777778,\"#fb9f3a\"],[0.8888888888888888,\"#fdca26\"],[1.0,\"#f0f921\"]],\"type\":\"surface\"}],\"table\":[{\"cells\":{\"fill\":{\"color\":\"#EBF0F8\"},\"line\":{\"color\":\"white\"}},\"header\":{\"fill\":{\"color\":\"#C8D4E3\"},\"line\":{\"color\":\"white\"}},\"type\":\"table\"}]},\"layout\":{\"annotationdefaults\":{\"arrowcolor\":\"#2a3f5f\",\"arrowhead\":0,\"arrowwidth\":1},\"autotypenumbers\":\"strict\",\"coloraxis\":{\"colorbar\":{\"outlinewidth\":0,\"ticks\":\"\"}},\"colorscale\":{\"diverging\":[[0,\"#8e0152\"],[0.1,\"#c51b7d\"],[0.2,\"#de77ae\"],[0.3,\"#f1b6da\"],[0.4,\"#fde0ef\"],[0.5,\"#f7f7f7\"],[0.6,\"#e6f5d0\"],[0.7,\"#b8e186\"],[0.8,\"#7fbc41\"],[0.9,\"#4d9221\"],[1,\"#276419\"]],\"sequential\":[[0.0,\"#0d0887\"],[0.1111111111111111,\"#46039f\"],[0.2222222222222222,\"#7201a8\"],[0.3333333333333333,\"#9c179e\"],[0.4444444444444444,\"#bd3786\"],[0.5555555555555556,\"#d8576b\"],[0.6666666666666666,\"#ed7953\"],[0.7777777777777778,\"#fb9f3a\"],[0.8888888888888888,\"#fdca26\"],[1.0,\"#f0f921\"]],\"sequentialminus\":[[0.0,\"#0d0887\"],[0.1111111111111111,\"#46039f\"],[0.2222222222222222,\"#7201a8\"],[0.3333333333333333,\"#9c179e\"],[0.4444444444444444,\"#bd3786\"],[0.5555555555555556,\"#d8576b\"],[0.6666666666666666,\"#ed7953\"],[0.7777777777777778,\"#fb9f3a\"],[0.8888888888888888,\"#fdca26\"],[1.0,\"#f0f921\"]]},\"colorway\":[\"#636efa\",\"#EF553B\",\"#00cc96\",\"#ab63fa\",\"#FFA15A\",\"#19d3f3\",\"#FF6692\",\"#B6E880\",\"#FF97FF\",\"#FECB52\"],\"font\":{\"color\":\"#2a3f5f\"},\"geo\":{\"bgcolor\":\"white\",\"lakecolor\":\"white\",\"landcolor\":\"#E5ECF6\",\"showlakes\":true,\"showland\":true,\"subunitcolor\":\"white\"},\"hoverlabel\":{\"align\":\"left\"},\"hovermode\":\"closest\",\"mapbox\":{\"style\":\"light\"},\"paper_bgcolor\":\"white\",\"plot_bgcolor\":\"#E5ECF6\",\"polar\":{\"angularaxis\":{\"gridcolor\":\"white\",\"linecolor\":\"white\",\"ticks\":\"\"},\"bgcolor\":\"#E5ECF6\",\"radialaxis\":{\"gridcolor\":\"white\",\"linecolor\":\"white\",\"ticks\":\"\"}},\"scene\":{\"xaxis\":{\"backgroundcolor\":\"#E5ECF6\",\"gridcolor\":\"white\",\"gridwidth\":2,\"linecolor\":\"white\",\"showbackground\":true,\"ticks\":\"\",\"zerolinecolor\":\"white\"},\"yaxis\":{\"backgroundcolor\":\"#E5ECF6\",\"gridcolor\":\"white\",\"gridwidth\":2,\"linecolor\":\"white\",\"showbackground\":true,\"ticks\":\"\",\"zerolinecolor\":\"white\"},\"zaxis\":{\"backgroundcolor\":\"#E5ECF6\",\"gridcolor\":\"white\",\"gridwidth\":2,\"linecolor\":\"white\",\"showbackground\":true,\"ticks\":\"\",\"zerolinecolor\":\"white\"}},\"shapedefaults\":{\"line\":{\"color\":\"#2a3f5f\"}},\"ternary\":{\"aaxis\":{\"gridcolor\":\"white\",\"linecolor\":\"white\",\"ticks\":\"\"},\"baxis\":{\"gridcolor\":\"white\",\"linecolor\":\"white\",\"ticks\":\"\"},\"bgcolor\":\"#E5ECF6\",\"caxis\":{\"gridcolor\":\"white\",\"linecolor\":\"white\",\"ticks\":\"\"}},\"title\":{\"x\":0.05},\"xaxis\":{\"automargin\":true,\"gridcolor\":\"white\",\"linecolor\":\"white\",\"ticks\":\"\",\"title\":{\"standoff\":15},\"zerolinecolor\":\"white\",\"zerolinewidth\":2},\"yaxis\":{\"automargin\":true,\"gridcolor\":\"white\",\"linecolor\":\"white\",\"ticks\":\"\",\"title\":{\"standoff\":15},\"zerolinecolor\":\"white\",\"zerolinewidth\":2}}},\"xaxis\":{\"anchor\":\"y\",\"domain\":[0.0,1.0],\"title\":{\"text\":\"Year\"},\"categoryorder\":\"total descending\"},\"yaxis\":{\"anchor\":\"x\",\"domain\":[0.0,1.0],\"title\":{\"text\":\"Count of Movies per each Year\"}},\"legend\":{\"tracegroupgap\":0},\"margin\":{\"t\":60},\"barmode\":\"relative\"},                        {\"responsive\": true}                    ).then(function(){\n",
              "                            \n",
              "var gd = document.getElementById('1dfa790f-5ae0-4f3b-ba88-4b7c16ca9b1d');\n",
              "var x = new MutationObserver(function (mutations, observer) {{\n",
              "        var display = window.getComputedStyle(gd).display;\n",
              "        if (!display || display === 'none') {{\n",
              "            console.log([gd, 'removed!']);\n",
              "            Plotly.purge(gd);\n",
              "            observer.disconnect();\n",
              "        }}\n",
              "}});\n",
              "\n",
              "// Listen for the removal of the full notebook cells\n",
              "var notebookContainer = gd.closest('#notebook-container');\n",
              "if (notebookContainer) {{\n",
              "    x.observe(notebookContainer, {childList: true});\n",
              "}}\n",
              "\n",
              "// Listen for the clearing of the current output cell\n",
              "var outputEl = gd.closest('.output');\n",
              "if (outputEl) {{\n",
              "    x.observe(outputEl, {childList: true});\n",
              "}}\n",
              "\n",
              "                        })                };                            </script>        </div>\n",
              "</body>\n",
              "</html>"
            ]
          },
          "metadata": {}
        }
      ]
    },
    {
      "cell_type": "markdown",
      "source": [
        "Grafikte x ekseni yılları gösterirken y ekseni yıllara göre yayınlanan film sayılarını göstermektedir. \n",
        "En fazla film yayınlanan yıl 2020 dir"
      ],
      "metadata": {
        "id": "HTDwX5jMNTw8"
      }
    },
    {
      "cell_type": "markdown",
      "source": [
        "12. Hangi dilde yayımlanan filmler en düşük ortalama IMBD puanına sahiptir? Görselleştiriniz."
      ],
      "metadata": {
        "id": "pM1nUm4jmYx3"
      }
    },
    {
      "cell_type": "code",
      "source": [
        "\n",
        "a=veri.groupby(\"Language\").agg({\"IMDB Score\": \"mean\"}).sort_values(by=\"IMDB Score\", ascending=True)[:15].reset_index()\n",
        "x=a[\"Language\"]\n",
        "y=a[\"IMDB Score\"]\n",
        "print(a)\n",
        "\n",
        "#BarPlot Çizimi\n",
        "fig=plt.figure(figsize=(25,12))\n",
        "plt.bar(x,y,color=\"Orange\")\n",
        "plt.xlabel(\"Language\")\n",
        "plt.ylabel(\"IMDB Score\")\n",
        "plt.show()"
      ],
      "metadata": {
        "colab": {
          "base_uri": "https://localhost:8080/",
          "height": 994
        },
        "id": "9B_PSsedmdO6",
        "outputId": "92738978-011e-48e0-aac1-8252c95f0f26"
      },
      "execution_count": null,
      "outputs": [
        {
          "output_type": "stream",
          "name": "stdout",
          "text": [
            "            Language  IMDB Score\n",
            "0              Malay    4.200000\n",
            "1   English/Japanese    4.400000\n",
            "2          Norwegian    5.100000\n",
            "3           Filipino    5.100000\n",
            "4             Polish    5.166667\n",
            "5               Thai    5.450000\n",
            "6            Swedish    5.500000\n",
            "7            Italian    5.542857\n",
            "8     Spanish/Basque    5.600000\n",
            "9             German    5.640000\n",
            "10           Turkish    5.660000\n",
            "11            French    5.770000\n",
            "12             Dutch    5.800000\n",
            "13        Indonesian    5.844444\n",
            "14            Korean    5.916667\n"
          ]
        },
        {
          "output_type": "display_data",
          "data": {
            "text/plain": [
              "<Figure size 1800x864 with 1 Axes>"
            ],
            "image/png": "[encoded data removed]"
          },
          "metadata": {
            "needs_background": "light"
          }
        }
      ]
    },
    {
      "cell_type": "markdown",
      "source": [
        "Grafikte x ekseni filmlerin dillerini gösterirken y ekseni IMDB puanını göstermektedir.\n",
        "En düşük ortalama IMBD puanına sahip olan dil Malay dilidir."
      ],
      "metadata": {
        "id": "bykplDcTOSNR"
      }
    },
    {
      "cell_type": "markdown",
      "source": [
        "13. Hangi yılın toplam \"runtime\" süresi en fazladır?"
      ],
      "metadata": {
        "id": "J87zC2S5mdcv"
      }
    },
    {
      "cell_type": "code",
      "source": [
        "veri.groupby(\"Year\").agg({\"Runtime\": \"sum\"}).sort_values(by=\"Runtime\", ascending=False)[0:1] "
      ],
      "metadata": {
        "colab": {
          "base_uri": "https://localhost:8080/",
          "height": 112
        },
        "id": "aQObBFGPmfuH",
        "outputId": "94d2d69a-d3d1-4a67-8342-9dee104775d8"
      },
      "execution_count": null,
      "outputs": [
        {
          "output_type": "execute_result",
          "data": {
            "text/plain": [
              "      Runtime\n",
              "Year         \n",
              "2020    17384"
            ],
            "text/html": [
              "\n",
              "  <div id=\"df-b3321b75-1705-4d41-869d-1d408c4bb280\">\n",
              "    <div class=\"colab-df-container\">\n",
              "      <div>\n",
              "<style scoped>\n",
              "    .dataframe tbody tr th:only-of-type {\n",
              "        vertical-align: middle;\n",
              "    }\n",
              "\n",
              "    .dataframe tbody tr th {\n",
              "        vertical-align: top;\n",
              "    }\n",
              "\n",
              "    .dataframe thead th {\n",
              "        text-align: right;\n",
              "    }\n",
              "</style>\n",
              "<table border=\"1\" class=\"dataframe\">\n",
              "  <thead>\n",
              "    <tr style=\"text-align: right;\">\n",
              "      <th></th>\n",
              "      <th>Runtime</th>\n",
              "    </tr>\n",
              "    <tr>\n",
              "      <th>Year</th>\n",
              "      <th></th>\n",
              "    </tr>\n",
              "  </thead>\n",
              "  <tbody>\n",
              "    <tr>\n",
              "      <th>2020</th>\n",
              "      <td>17384</td>\n",
              "    </tr>\n",
              "  </tbody>\n",
              "</table>\n",
              "</div>\n",
              "      <button class=\"colab-df-convert\" onclick=\"convertToInteractive('df-b3321b75-1705-4d41-869d-1d408c4bb280')\"\n",
              "              title=\"Convert this dataframe to an interactive table.\"\n",
              "              style=\"display:none;\">\n",
              "        \n",
              "  <svg xmlns=\"http://www.w3.org/2000/svg\" height=\"24px\"viewBox=\"0 0 24 24\"\n",
              "       width=\"24px\">\n",
              "    <path d=\"M0 0h24v24H0V0z\" fill=\"none\"/>\n",
              "    <path d=\"M18.56 5.44l.94 2.06.94-2.06 2.06-.94-2.06-.94-.94-2.06-.94 2.06-2.06.94zm-11 1L8.5 8.5l.94-2.06 2.06-.94-2.06-.94L8.5 2.5l-.94 2.06-2.06.94zm10 10l.94 2.06.94-2.06 2.06-.94-2.06-.94-.94-2.06-.94 2.06-2.06.94z\"/><path d=\"M17.41 7.96l-1.37-1.37c-.4-.4-.92-.59-1.43-.59-.52 0-1.04.2-1.43.59L10.3 9.45l-7.72 7.72c-.78.78-.78 2.05 0 2.83L4 21.41c.39.39.9.59 1.41.59.51 0 1.02-.2 1.41-.59l7.78-7.78 2.81-2.81c.8-.78.8-2.07 0-2.86zM5.41 20L4 18.59l7.72-7.72 1.47 1.35L5.41 20z\"/>\n",
              "  </svg>\n",
              "      </button>\n",
              "      \n",
              "  <style>\n",
              "    .colab-df-container {\n",
              "      display:flex;\n",
              "      flex-wrap:wrap;\n",
              "      gap: 12px;\n",
              "    }\n",
              "\n",
              "    .colab-df-convert {\n",
              "      background-color: #E8F0FE;\n",
              "      border: none;\n",
              "      border-radius: 50%;\n",
              "      cursor: pointer;\n",
              "      display: none;\n",
              "      fill: #1967D2;\n",
              "      height: 32px;\n",
              "      padding: 0 0 0 0;\n",
              "      width: 32px;\n",
              "    }\n",
              "\n",
              "    .colab-df-convert:hover {\n",
              "      background-color: #E2EBFA;\n",
              "      box-shadow: 0px 1px 2px rgba(60, 64, 67, 0.3), 0px 1px 3px 1px rgba(60, 64, 67, 0.15);\n",
              "      fill: #174EA6;\n",
              "    }\n",
              "\n",
              "    [theme=dark] .colab-df-convert {\n",
              "      background-color: #3B4455;\n",
              "      fill: #D2E3FC;\n",
              "    }\n",
              "\n",
              "    [theme=dark] .colab-df-convert:hover {\n",
              "      background-color: #434B5C;\n",
              "      box-shadow: 0px 1px 3px 1px rgba(0, 0, 0, 0.15);\n",
              "      filter: drop-shadow(0px 1px 2px rgba(0, 0, 0, 0.3));\n",
              "      fill: #FFFFFF;\n",
              "    }\n",
              "  </style>\n",
              "\n",
              "      <script>\n",
              "        const buttonEl =\n",
              "          document.querySelector('#df-b3321b75-1705-4d41-869d-1d408c4bb280 button.colab-df-convert');\n",
              "        buttonEl.style.display =\n",
              "          google.colab.kernel.accessAllowed ? 'block' : 'none';\n",
              "\n",
              "        async function convertToInteractive(key) {\n",
              "          const element = document.querySelector('#df-b3321b75-1705-4d41-869d-1d408c4bb280');\n",
              "          const dataTable =\n",
              "            await google.colab.kernel.invokeFunction('convertToInteractive',\n",
              "                                                     [key], {});\n",
              "          if (!dataTable) return;\n",
              "\n",
              "          const docLinkHtml = 'Like what you see? Visit the ' +\n",
              "            '<a target=\"_blank\" href=https://colab.research.google.com/notebooks/data_table.ipynb>data table notebook</a>'\n",
              "            + ' to learn more about interactive tables.';\n",
              "          element.innerHTML = '';\n",
              "          dataTable['output_type'] = 'display_data';\n",
              "          await google.colab.output.renderOutput(dataTable, element);\n",
              "          const docLink = document.createElement('div');\n",
              "          docLink.innerHTML = docLinkHtml;\n",
              "          element.appendChild(docLink);\n",
              "        }\n",
              "      </script>\n",
              "    </div>\n",
              "  </div>\n",
              "  "
            ]
          },
          "metadata": {},
          "execution_count": 63
        }
      ]
    },
    {
      "cell_type": "markdown",
      "source": [
        "14. Her bir dilin en fazla kullanıldığı \"Genre\" nedir?"
      ],
      "metadata": {
        "id": "XkCq5O2Nmf6B"
      }
    },
    {
      "cell_type": "code",
      "source": [
        "veri.groupby([\"Language\"])[\"Genre\"].value_counts(sort=True).groupby(level=0).head(1)"
      ],
      "metadata": {
        "colab": {
          "base_uri": "https://localhost:8080/"
        },
        "id": "33Fm-WJlmiDJ",
        "outputId": "1baf72ea-90a1-4892-b0a7-e7d263805c5a"
      },
      "execution_count": null,
      "outputs": [
        {
          "output_type": "execute_result",
          "data": {
            "text/plain": [
              "Language                    Genre                \n",
              "Bengali                     Documentary                1\n",
              "Dutch                       Crime drama                1\n",
              "English                     Documentary              120\n",
              "English/Akan                War drama                  1\n",
              "English/Arabic              Documentary                1\n",
              "English/Hindi               Documentary                2\n",
              "English/Japanese            Crime drama                1\n",
              "English/Korean              Action-adventure           1\n",
              "English/Mandarin            Documentary                2\n",
              "English/Russian             Documentary                1\n",
              "English/Spanish             Documentary                5\n",
              "English/Swedish             Documentary                1\n",
              "English/Taiwanese/Mandarin  Drama                      1\n",
              "English/Ukranian/Russian    Documentary                1\n",
              "Filipino                    Drama                      1\n",
              "French                      Documentary                6\n",
              "Georgian                    Documentary                1\n",
              "German                      Drama                      1\n",
              "Hindi                       Drama                     13\n",
              "Indonesian                  Drama                      3\n",
              "Italian                     Drama                      4\n",
              "Japanese                    Anime/Science fiction      2\n",
              "Khmer/English/French        Drama                      1\n",
              "Korean                      Drama                      2\n",
              "Malay                       Action comedy              1\n",
              "Marathi                     Drama                      2\n",
              "Norwegian                   Horror                     1\n",
              "Polish                      Horror                     1\n",
              "Portuguese                  Comedy                     6\n",
              "Spanish                     Documentary                8\n",
              "Spanish/Basque              Black comedy               1\n",
              "Spanish/Catalan             Documentary                1\n",
              "Spanish/English             Documentary                1\n",
              "Swedish                     Thriller                   1\n",
              "Tamil                       Drama                      1\n",
              "Thai                        Documentary                1\n",
              "Thia/English                Documentary                1\n",
              "Turkish                     Comedy                     2\n",
              "Name: Genre, dtype: int64"
            ]
          },
          "metadata": {},
          "execution_count": 64
        }
      ]
    },
    {
      "cell_type": "markdown",
      "source": [
        "Analiz sonucunda görüldüğü gibi \n",
        "İngilizce dili 120 adet olmak üzere en fazla Documentary türünde kullanılmıştır\n",
        "\n",
        "İspanyolca dilinin en fazla kullanıldığı tür ise 8 adet olmak üzere yine Documentary türüdür.\n",
        "\n",
        "Fransızca dili 6 adet film ile yine Documentary türünde en fazla kullanılmıştır.\n",
        "\n",
        "Portekizce ise 6 adet film ile en fazla"
      ],
      "metadata": {
        "id": "S_yn9P5-yGLJ"
      }
    },
    {
      "cell_type": "markdown",
      "source": [
        "15. Veri setinde outlier veri var mıdır? Açıklayınız."
      ],
      "metadata": {
        "id": "zkTW4wHQmihw"
      }
    },
    {
      "cell_type": "code",
      "source": [
        "sayisalSutun = veri.select_dtypes('int64').columns\n",
        "for i in sayisalSutun:\n",
        "  sns.boxplot(data=veri,x=veri[i],color='g')\n",
        "  plt.show()\n",
        "\n",
        "\n",
        "sayisalSutun1 = veri.select_dtypes('float64').columns\n",
        "for i in sayisalSutun1:\n",
        "  sns.boxplot(data=veri,x=veri[i],color='g')\n",
        "  plt.show()"
      ],
      "metadata": {
        "colab": {
          "base_uri": "https://localhost:8080/",
          "height": 803
        },
        "id": "gjDS_uOMMeDf",
        "outputId": "2c3f27f1-b64e-4a94-c216-0a0dc724cb6e"
      },
      "execution_count": null,
      "outputs": [
        {
          "output_type": "display_data",
          "data": {
            "text/plain": [
              "<Figure size 432x288 with 1 Axes>"
            ],
            "image/png": "[encoded data removed]"
          },
          "metadata": {
            "needs_background": "light"
          }
        },
        {
          "output_type": "display_data",
          "data": {
            "text/plain": [
              "<Figure size 432x288 with 1 Axes>"
            ],
            "image/png": "[encoded data removed]"
          },
          "metadata": {
            "needs_background": "light"
          }
        },
        {
          "output_type": "display_data",
          "data": {
            "text/plain": [
              "<Figure size 432x288 with 1 Axes>"
            ],
            "image/png": "[encoded data removed]"
          },
          "metadata": {
            "needs_background": "light"
          }
        }
      ]
    },
    {
      "cell_type": "code",
      "source": [
        "Q1 = veri.loc[:,\"Runtime\":].quantile(0.25)\n",
        "Q3 = veri.loc[:,\"Runtime\":].quantile(0.75)\n",
        "IQR = Q3-Q1"
      ],
      "metadata": {
        "id": "zlJ35NuOMl95"
      },
      "execution_count": null,
      "outputs": []
    },
    {
      "cell_type": "code",
      "source": [
        "\n",
        "min_bound = Q1 - 1.5*IQR\n",
        "max_bound = Q3 + 1.5*IQR\n",
        "print(min_bound)\n",
        "print(max_bound)"
      ],
      "metadata": {
        "colab": {
          "base_uri": "https://localhost:8080/"
        },
        "id": "lUhNLETJMtDt",
        "outputId": "fbb5d475-6b9f-4792-a01b-6a364e885255"
      },
      "execution_count": null,
      "outputs": [
        {
          "output_type": "stream",
          "name": "stdout",
          "text": [
            "Runtime         53.00\n",
            "IMDB Score       3.75\n",
            "Year          2015.00\n",
            "dtype: float64\n",
            "Runtime        141.00\n",
            "IMDB Score       8.95\n",
            "Year          2023.00\n",
            "dtype: float64\n"
          ]
        }
      ]
    },
    {
      "cell_type": "code",
      "source": [
        "print(np.where(veri['Runtime']>141))\n",
        "print(np.where(veri['Runtime']<53))\n",
        "print(np.where(veri['Year']<2015))\n",
        "print(np.where(veri['IMDB Score']<3.75))\n",
        "print(np.where(veri['IMDB Score']>8.95))"
      ],
      "metadata": {
        "colab": {
          "base_uri": "https://localhost:8080/"
        },
        "id": "kaIUi483M2s-",
        "outputId": "04d86f95-8e23-4ceb-ff7a-23ff178d4ad5"
      },
      "execution_count": null,
      "outputs": [
        {
          "output_type": "stream",
          "name": "stdout",
          "text": [
            "(array([  5,   7,  16, 118, 194, 247, 284, 328, 365, 389, 509, 543, 545,\n",
            "       561, 581]),)\n",
            "(array([ 15,  30,  33,  40,  66, 111, 133, 152, 179, 197, 199, 244, 263,\n",
            "       278, 295, 301, 309, 320, 325, 326, 334, 345, 363, 378, 393, 394,\n",
            "       402, 407, 410, 417, 427, 430, 434, 436, 439, 442, 445, 446, 451,\n",
            "       452, 453, 457, 459, 471, 473, 485, 496, 498, 501, 506, 513, 521,\n",
            "       522, 524, 528, 529, 541, 552, 560, 577]),)\n",
            "(array([304]),)\n",
            "(array([0, 1, 2, 3, 4, 5, 6, 7]),)\n",
            "(array([583]),)\n"
          ]
        }
      ]
    },
    {
      "cell_type": "markdown",
      "source": [
        "Toplam 83 tane aykırı değer çıkmıştır. "
      ],
      "metadata": {
        "id": "FoCNhVkNkmtm"
      }
    }
  ]
}